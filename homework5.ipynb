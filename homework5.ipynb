{
 "cells": [
  {
   "cell_type": "code",
   "execution_count": 4,
   "metadata": {},
   "outputs": [],
   "source": [
    "import numpy as np\n",
    "import matplotlib.pyplot as plt\n",
    "from riemann import *"
   ]
  },
  {
   "cell_type": "code",
   "execution_count": 5,
   "metadata": {},
   "outputs": [],
   "source": [
    "\n",
    "class Grid(object):\n",
    "    def __init__(self, nx, ng, xmin=0.0, xmax=1.0):\n",
    "        self.ng = ng\n",
    "        self.nx = nx \n",
    "\n",
    "        self.xmin = xmin\n",
    "        self.xmax = xmax\n",
    "        self.ilo = ng\n",
    "        self.ihi = ng + nx - 1\n",
    "\n",
    "        self.dx = (xmax - xmin)/(nx)\n",
    "        self.x = xmin + (np.arange(nx+2*ng)-ng+0.5)*self.dx\n",
    "        self.a = np.zeros((nx + 2*ng, 3), dtype = np.float64)\n",
    "\n",
    "    def fill_BCs(self):\n",
    "\n",
    "        for i in range(self.ng):\n",
    "            self.a[self.ilo-1-n,:] = self.a[self.ihi-n,:]\n",
    "            self.a[self.ihi+1+n,:] = self.a[self.ilo+n,:]\n",
    "    \n",
    "    def init_cond(self,type = \"Sod's problem\"):\n",
    "        if type == \"Sod's problem\":\n",
    "        \n",
    "            #rou component\n",
    "            self.a[self.x < 0.5, 0] = 1.0\n",
    "            self.a[self.x >= 0.5, 0] = 0.125\n",
    "        \n",
    "            #u component\n",
    "            self.a[self.x < 0.5, 1] = 0.0\n",
    "            self.a[self.x >= 0.5, 1] = 0.0\n",
    "        \n",
    "            #p component\n",
    "            self.a[self.x < 0.5, 2] = 1.0\n",
    "            self.a[self.x >= 0.5, 2] = 0.1\n",
    "        \n",
    "        if type == \"double rarefaction\":\n",
    "            \n",
    "            #rou component\n",
    "            self.a[self.x < 0.5, 0] = 1.0\n",
    "            self.a[self.x >= 0.5, 0] = 1.0\n",
    "        \n",
    "            #u component\n",
    "            self.a[self.x < 0.5, 1] = -2.0\n",
    "            self.a[self.x >= 0.5, 1] = 2.0\n",
    "        \n",
    "            #p component\n",
    "            self.a[self.x < 0.5, 2] = 0.4\n",
    "            self.a[self.x >= 0.5, 2] = 0.4\n",
    "        \n",
    "        if type == \"strong shock\":\n",
    "            \n",
    "            #rou component\n",
    "            self.a[self.x < 0.5, 0] = 1.0\n",
    "            self.a[self.x >= 0.5, 0] = 1.0\n",
    "        \n",
    "            #u component\n",
    "            self.a[self.x < 0.5, 1] = 0.0\n",
    "            self.a[self.x >= 0.5, 1] = 0.0\n",
    "        \n",
    "            #p component\n",
    "            self.a[self.x < 0.5, 2] = 1000.0\n",
    "            self.a[self.x >= 0.5, 2] = 0.01\n",
    "        \n",
    "        if type == \"stationary shock\":\n",
    "            \n",
    "            #rou component\n",
    "            self.a[self.x < 0.5, 0] = 5.6698\n",
    "            self.a[self.x >= 0.5, 0] = 1.0\n",
    "        \n",
    "            #u component\n",
    "            self.a[self.x < 0.5, 1] = -1.4701\n",
    "            self.a[self.x >= 0.5, 1] = -10.5\n",
    "        \n",
    "            #p component\n",
    "            self.a[self.x < 0.5, 2] = 100.0\n",
    "            self.a[self.x >= 0.5, 2] = 1.0\n",
    "            \n",
    "    "
   ]
  },
  {
   "cell_type": "code",
   "execution_count": 6,
   "metadata": {},
   "outputs": [
    {
     "data": {
      "image/png": "[encoded data removed]",
      "text/plain": [
       "<matplotlib.figure.Figure at 0x1118f7b70>"
      ]
     },
     "metadata": {},
     "output_type": "display_data"
    }
   ],
   "source": [
    "#test of the Grid class\n",
    "mygrid = Grid(10,2)\n",
    "mygrid.init_cond(type = \"double rarefaction\")\n",
    "mygrid.fill_BCs\n",
    "plt.plot(mygrid.x,mygrid.a)\n",
    "plt.show()\n",
    "        "
   ]
  },
  {
   "cell_type": "code",
   "execution_count": 25,
   "metadata": {},
   "outputs": [],
   "source": [
    "class Simulation(object):\n",
    "    \n",
    "    def __init__(self, q_grid, tmax, C=0.8, gamma=1.4,):\n",
    "        self.q_grid = q_grid\n",
    "        self.tmax = tmax\n",
    "        self.C = C\n",
    "        self.gamma = gamma\n",
    "        \n",
    "        #creat a grid for U, using gamma-law EOS\n",
    "        self.U_grid = Grid(self.q_grid.nx, self.q_grid.ng)\n",
    "        \n",
    "        #rou\n",
    "        self.U_grid.a[:,0] = self.q_grid.a[:,0]\n",
    "        \n",
    "        #rou*u\n",
    "        self.U_grid.a[:,1] = self.q_grid.a[:,0]*self.q_grid.a[:,1]\n",
    "        \n",
    "        #rou*E\n",
    "        self.U_grid.a[:,2] = (self.q_grid.a[:,2])/(self.gamma - 1) + 0.5/(self.U_grid.a[:,0])*(self.U_grid.a[:,1])**2\n",
    "        \n",
    "        self.U_grid.fill_BCs\n",
    "    \n",
    "    #function to convert U to q,also using gamma-law EOS\n",
    "    def utoq(self):\n",
    "        self.q_grid.a[:,0] = self.U_grid.a[:,0]\n",
    "        self.q_grid.a[:,1] = (self.U_grid.a[:,1])/(self.U_grid.a[:,0])\n",
    "        self.q_grid.a[:,2] = (self.U_grid.a[:,2] - 0.5/(self.U_grid.a[:,0])*(self.U_grid.a[:,1])**2)*(self.gamma - 1)\n",
    "    \n",
    "    def deltat(self):\n",
    "        # dt = C*dx/(max(abs(u_i)+c_i)), where the sound speed c = sqrt(gamma*p/rou)\n",
    "        return self.C*self.q_grid.dx/(np.amax(np.absolute(self.q_grid.a[:,1]) + np.sqrt((self.gamma*self.q_grid.a[:,2])/(self.q_grid.a[:,0]))))\n",
    "    \n",
    "    def minmod(self,a,b):\n",
    "        slope = np.zeros((3))\n",
    "        for i in range(3):\n",
    "            if abs(a[i]) < abs(b[i]) and (a[i])*(b[i]) > 0:\n",
    "                slope[i] = a[i]\n",
    "            elif abs(b[i]) < abs(a[i]) and (a[i])*(b[i]) > 0:\n",
    "                slope[i] = b[i]\n",
    "        return slope\n",
    "    \n",
    "    #compute A using U\n",
    "    def utoa(self):\n",
    "        \n",
    "        #fill the ghost cells\n",
    "        self.U_grid.fill_BCs\n",
    "                \n",
    "        #convert u to q\n",
    "        self.utoq()\n",
    "                \n",
    "        #compute the limited slopes\n",
    "        #dq has the size of N+2\n",
    "        dq = np.zeros((self.q_grid.nx + 2*self.q_grid.ng - 2,3))\n",
    "        for i in range(1,self.q_grid.nx + 2*self.q_grid.ng - 1):\n",
    "            dq[i-1,:] = self.minmod(self.q_grid.a[i+1,:] - self.q_grid.a[i,:],\\\n",
    "                                    self.q_grid.a[i,:] - self.q_grid.a[i-1,:])\n",
    "                    \n",
    "        #compute the value on left and right sides of the interface\n",
    "        ql = self.q_grid.a[1:-2,:] + 0.5*dq[1:,:]\n",
    "        qr = self.q_grid.a[2:-1,:] - 0.5*dq[:-1,:]\n",
    "                \n",
    "        #solve the Riemann problem\n",
    "        f = np.zeros((self.q_grid.nx + 1,3))\n",
    "        for i in range(self.q_grid.nx + 1):\n",
    "            #print(ql[i,:],qr[i,:])\n",
    "            f[i,:] = riemann(ql[i,:],qr[i,:],self.gamma)\n",
    "                \n",
    "        #compute A\n",
    "        a = (f[:-1,:] - f[1:,:])/self.q_grid.dx\n",
    "        return a\n",
    "        \n",
    "        \n",
    "    def evolve(self):\n",
    "        \n",
    "        t = 0.0\n",
    "        while t < self.tmax:\n",
    "            dt = self.deltat()\n",
    "            #print(t)\n",
    "                        \n",
    "            if t + dt > self.tmax:\n",
    "                dt = self.tmax - t\n",
    "            \n",
    "            #compute a\n",
    "            a = self.utoa()\n",
    "            \n",
    "            #record U_n\n",
    "            U_n = np.copy(self.U_grid.a[self.U_grid.ilo:self.U_grid.ihi+1,:])\n",
    "            \n",
    "            #update U_star\n",
    "            self.U_grid.a[self.U_grid.ilo:self.U_grid.ihi+1,:] += 0.5*dt*a\n",
    "            \n",
    "            #compute A_star using U_star\n",
    "            a = self.utoa()\n",
    "            \n",
    "            #updata U_n to U_n+1\n",
    "            self.U_grid.a[self.U_grid.ilo:self.U_grid.ihi+1,:] = U_n + dt*a\n",
    "            \n",
    "            #updata time\n",
    "            t += dt\n",
    "        \n",
    "        #convert final u to q\n",
    "        self.utoq()\n",
    "        \n",
    "        \n",
    "        return self.q_grid.x,self.q_grid.a\n",
    "            "
   ]
  },
  {
   "cell_type": "code",
   "execution_count": 26,
   "metadata": {},
   "outputs": [
    {
     "name": "stdout",
     "output_type": "stream",
     "text": [
      "[ 1.  1.  0.]\n"
     ]
    }
   ],
   "source": [
    "#test of minmod function\n",
    "sim = Simulation(mygrid,0.2)\n",
    "x = np.array([1,2,3])\n",
    "y = np.array([3,1,3])\n",
    "result = sim.minmod(x,y)\n",
    "print(result)"
   ]
  },
  {
   "cell_type": "code",
   "execution_count": 27,
   "metadata": {},
   "outputs": [
    {
     "data": {
      "image/png": "[encoded data removed]",
      "text/plain": [
       "<matplotlib.figure.Figure at 0x1125e95c0>"
      ]
     },
     "metadata": {},
     "output_type": "display_data"
    }
   ],
   "source": [
    "q_grid = Grid(256,2)\n",
    "q_grid.init_cond(type = \"Sod's problem\")\n",
    "sim = Simulation(q_grid,0.2)\n",
    "x,a = sim.evolve()\n",
    "plt.subplot(3,1,1)\n",
    "plt.plot(x,a[:,0])\n",
    "plt.subplot(3,1,2)\n",
    "plt.plot(x,a[:,1])\n",
    "plt.subplot(3,1,3)\n",
    "plt.plot(x,a[:,2])\n",
    "plt.show()"
   ]
  },
  {
   "cell_type": "code",
   "execution_count": 28,
   "metadata": {},
   "outputs": [
    {
     "data": {
      "image/png": "[encoded data removed]",
      "text/plain": [
       "<matplotlib.figure.Figure at 0x1125f17b8>"
      ]
     },
     "metadata": {},
     "output_type": "display_data"
    }
   ],
   "source": [
    "q_grid = Grid(256,2)\n",
    "q_grid.init_cond(type = \"double rarefaction\")\n",
    "sim = Simulation(q_grid,0.0068)\n",
    "x,a = sim.evolve()\n",
    "plt.subplot(3,1,1)\n",
    "plt.plot(x,a[:,0])\n",
    "plt.subplot(3,1,2)\n",
    "plt.plot(x,a[:,1])\n",
    "plt.subplot(3,1,3)\n",
    "plt.plot(x,a[:,2])\n",
    "plt.show()"
   ]
  },
  {
   "cell_type": "code",
   "execution_count": 29,
   "metadata": {},
   "outputs": [
    {
     "data": {
      "image/png": "[encoded data removed]",
      "text/plain": [
       "<matplotlib.figure.Figure at 0x112751320>"
      ]
     },
     "metadata": {},
     "output_type": "display_data"
    }
   ],
   "source": [
    "q_grid = Grid(256,2)\n",
    "q_grid.init_cond(type = \"strong shock\")\n",
    "sim = Simulation(q_grid,0.0039)\n",
    "x,a = sim.evolve()\n",
    "plt.subplot(3,1,1)\n",
    "plt.plot(x,a[:,0])\n",
    "plt.subplot(3,1,2)\n",
    "plt.plot(x,a[:,1])\n",
    "plt.subplot(3,1,3)\n",
    "plt.plot(x,a[:,2])\n",
    "plt.show()"
   ]
  },
  {
   "cell_type": "code",
   "execution_count": 30,
   "metadata": {},
   "outputs": [
    {
     "name": "stderr",
     "output_type": "stream",
     "text": [
      "/Library/Frameworks/Python.framework/Versions/3.6/lib/python3.6/site-packages/ipykernel_launcher.py:31: RuntimeWarning: invalid value encountered in sqrt\n"
     ]
    },
    {
     "data": {
      "image/png": "[encoded data removed]",
      "text/plain": [
       "<matplotlib.figure.Figure at 0x11197b198>"
      ]
     },
     "metadata": {},
     "output_type": "display_data"
    }
   ],
   "source": [
    "q_grid = Grid(256,2)\n",
    "q_grid.init_cond(type = \"stationary shock\")\n",
    "sim = Simulation(q_grid,1.0)\n",
    "x,a = sim.evolve()\n",
    "plt.subplot(3,1,1)\n",
    "plt.plot(x,a[:,0])\n",
    "plt.subplot(3,1,2)\n",
    "plt.plot(x,a[:,1])\n",
    "plt.subplot(3,1,3)\n",
    "plt.plot(x,a[:,2])\n",
    "plt.show()"
   ]
  },
  {
   "cell_type": "code",
   "execution_count": null,
   "metadata": {},
   "outputs": [],
   "source": []
  }
 ],
 "metadata": {
  "kernelspec": {
   "display_name": "Python 3",
   "language": "python",
   "name": "python3"
  },
  "language_info": {
   "codemirror_mode": {
    "name": "ipython",
    "version": 3
   },
   "file_extension": ".py",
   "mimetype": "text/x-python",
   "name": "python",
   "nbconvert_exporter": "python",
   "pygments_lexer": "ipython3",
   "version": "3.6.3"
  }
 },
 "nbformat": 4,
 "nbformat_minor": 2
}
